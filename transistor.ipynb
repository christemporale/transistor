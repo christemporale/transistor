{
 "cells": [
  {
   "cell_type": "code",
   "execution_count": 33,
   "metadata": {},
   "outputs": [
    {
     "data": {
      "image/png": "[encoded data removed]",
      "text/plain": [
       "<IPython.core.display.Image object>"
      ]
     },
     "execution_count": 33,
     "metadata": {},
     "output_type": "execute_result"
    }
   ],
   "source": [
    "from IPython.display import Image\n",
    "Image(\"bjt.png\")"
   ]
  },
  {
   "cell_type": "code",
   "execution_count": 57,
   "metadata": {},
   "outputs": [],
   "source": [
    "# INPUT VALUES\n",
    "vcc = 12 #12\n",
    "hfe = 100 #BC547\n",
    "vbe = 0.7\n",
    "ic = 1e-3 #1.5e-3"
   ]
  },
  {
   "cell_type": "code",
   "execution_count": 58,
   "metadata": {},
   "outputs": [],
   "source": [
    "vce = vcc/2\n",
    "vre = vcc/10\n",
    "vrc = vcc-vce-vre\n",
    "rc = vrc/ic\n",
    "re = vre/ic\n",
    "ib = ic/hfe\n",
    "rb = 9 * re\n",
    "#vbb = vcc*r2/(r1+r2) # Thevenin\n",
    "#rb = r1*r2/(r1+r2) # Thevenin\n",
    "vbb = rb*ib + vbe + re*ic\n",
    "r1 = vcc/vbb*rb\n",
    "r2 = r1/(vcc/vbb-1)\n",
    "vr2 = vbe+vre\n",
    "vr1 = vcc-vr2\n",
    "i1 = vr1/r1\n",
    "i2 = vr2/r2"
   ]
  },
  {
   "cell_type": "code",
   "execution_count": 59,
   "metadata": {},
   "outputs": [
    {
     "name": "stdout",
     "output_type": "stream",
     "text": [
      "R1 =   64.54 kΩ\n",
      "R2 =   12.97 kΩ\n",
      "RC =    4.80 kΩ\n",
      "RE =    1.20 kΩ\n",
      "\n",
      "VR1 =  10.10 V\n",
      "VR2 =   1.90 V\n",
      "VRC =   4.80 V\n",
      "VRE =   1.20 V\n",
      "i1 =    0.15649 mA\n",
      "i2 =    0.14649 mA\n",
      "ic =    1.00000 mA\n",
      "ib =    0.01000 mA\n"
     ]
    }
   ],
   "source": [
    "print(\"R1 ={:8.2f} kΩ\\nR2 ={:8.2f} kΩ\\nRC ={:8.2f} kΩ\\nRE ={:8.2f} kΩ\"\n",
    "      .format(r1/1000, r2/1000, rc/1000, re/1000))\n",
    "print(\"\\nVR1 ={:7.2f} V\\nVR2 ={:7.2f} V\\nVRC ={:7.2f} V\\nVRE ={:7.2f} V\"\n",
    "      .format(vr1, vr2, vrc, vre))\n",
    "print(\"i1 ={:11.5f} mA\\ni2 ={:11.5f} mA\\nic ={:11.5f} mA\\nib ={:11.5f} mA\"\n",
    "      .format(i1*1000, i2*1000, ic*1000, ib*1000))"
   ]
  },
  {
   "cell_type": "code",
   "execution_count": 31,
   "metadata": {},
   "outputs": [
    {
     "data": {
      "text/plain": [
       "(68680.44515103339, 12815.188371403145, 4800.0, 1200.0)"
      ]
     },
     "execution_count": 31,
     "metadata": {},
     "output_type": "execute_result"
    }
   ],
   "source": [
    "r1, r2, rc, re"
   ]
  },
  {
   "cell_type": "code",
   "execution_count": 30,
   "metadata": {},
   "outputs": [],
   "source": [
    "# Metodo Nuova elettronica\n",
    "# INPUT VALUES\n",
    "vcc=12\n",
    "hfe=300\n",
    "vbe=0.68\n",
    "Zout = 20000  #output impedance\n",
    "gain = 10 # The gain we want"
   ]
  },
  {
   "cell_type": "code",
   "execution_count": 31,
   "metadata": {},
   "outputs": [],
   "source": [
    "r1=r2=rc=re=0 # Reset values\n",
    "# Rc must be much lower than output impedance. Recommended values: 5,6,7,8 times lower. Practically 5 is good: \n",
    "rc = Zout/5\n",
    "# gain is given by this ratio: rc/re, so:\n",
    "re = rc/gain\n",
    "vce = vcc/2\n",
    "#ic=vrc/rc = (vcc-vre-vce)/rc = vcc/(2rc)-ic*(re/rc) => ic(1+re/rc)=vcc/2rc => ic = vcc/(2rc)*rc/(rc+re)\n",
    "ic = vcc/2/(rc+re)\n",
    "vre = ic*re\n",
    "vrc = vcc-vce-vre\n",
    "r2 = hfe*re / 10\n",
    "r1 = (vcc*r2) / (vbe+vre) - r2\n",
    "vr2 = vbe+vre\n",
    "vr1 = vcc-vr2\n",
    "i1 = vr1/r1\n",
    "i2 = vr2/r2\n",
    "ib = ic/hfe"
   ]
  },
  {
   "cell_type": "code",
   "execution_count": 32,
   "metadata": {},
   "outputs": [
    {
     "name": "stdout",
     "output_type": "stream",
     "text": [
      "R1 =  105.51 kΩ\n",
      "R2 =   12.00 kΩ\n",
      "RC =    4.00 kΩ\n",
      "RE =    0.40 kΩ\n",
      "\n",
      "VR1 =  10.77 V\n",
      "VR2 =   1.23 V\n",
      "VRC =   5.45 V\n",
      "VRE =   0.55 V\n",
      "i1 =    0.10212 mA\n",
      "i2 =    0.10212 mA\n",
      "ic =    1.36364 mA\n",
      "ib =    0.00455 mA\n"
     ]
    }
   ],
   "source": [
    "print(\"R1 ={:8.2f} kΩ\\nR2 ={:8.2f} kΩ\\nRC ={:8.2f} kΩ\\nRE ={:8.2f} kΩ\"\n",
    "      .format(r1/1000, r2/1000, rc/1000, re/1000))\n",
    "print(\"\\nVR1 ={:7.2f} V\\nVR2 ={:7.2f} V\\nVRC ={:7.2f} V\\nVRE ={:7.2f} V\"\n",
    "      .format(vr1, vr2, vrc, vre))\n",
    "print(\"i1 ={:11.5f} mA\\ni2 ={:11.5f} mA\\nic ={:11.5f} mA\\nib ={:11.5f} mA\"\n",
    "      .format(i1*1000, i2*1000, ic*1000, ib*1000))"
   ]
  },
  {
   "cell_type": "code",
   "execution_count": null,
   "metadata": {},
   "outputs": [],
   "source": []
  },
  {
   "cell_type": "code",
   "execution_count": null,
   "metadata": {},
   "outputs": [],
   "source": []
  },
  {
   "cell_type": "code",
   "execution_count": null,
   "metadata": {},
   "outputs": [],
   "source": []
  },
  {
   "cell_type": "code",
   "execution_count": null,
   "metadata": {},
   "outputs": [],
   "source": []
  },
  {
   "cell_type": "code",
   "execution_count": 48,
   "metadata": {},
   "outputs": [
    {
     "data": {
      "text/plain": [
       "(2500.630323679727, 2500.630323679727)"
      ]
     },
     "execution_count": 48,
     "metadata": {},
     "output_type": "execute_result"
    }
   ],
   "source": [
    "12990*2.26/14/(1-2.26/14), 12990/(14/2.26 - 1) "
   ]
  },
  {
   "cell_type": "code",
   "execution_count": 82,
   "metadata": {},
   "outputs": [],
   "source": [
    "hfe = 100\n",
    "vbe = 0.7\n",
    "vcc = 5\n",
    "ic = 2e-3\n",
    "ib = ic/hfe\n",
    "vce = vcc/2\n",
    "vre = vcc/10\n",
    "vrc = vcc-vce-vre\n",
    "rc = vrc/ic\n",
    "re=vre/ic\n",
    "vrc = vcc-vce-vre\n",
    "vc = vce+vre\n",
    "vbb = vbe+vre\n",
    "vgmin = vbb\n",
    "vgmax = vgmin+0.5\n",
    "vgmed = (vgmax+vgmin)/2\n",
    "rb = (vgmed-vbb)/ib\n"
   ]
  },
  {
   "cell_type": "code",
   "execution_count": 83,
   "metadata": {},
   "outputs": [
    {
     "name": "stdout",
     "output_type": "stream",
     "text": [
      "Rb=12499.999999999998, Rc=1000.0, Re=250.0\n"
     ]
    }
   ],
   "source": [
    "print(\"Rb={}, Rc={}, Re={}\".format(rb, rc, re))"
   ]
  },
  {
   "cell_type": "code",
   "execution_count": 78,
   "metadata": {},
   "outputs": [
    {
     "data": {
      "text/plain": [
       "(2.5, 0.5, 1.2, 3.0, 2e-05, 0.002)"
      ]
     },
     "execution_count": 78,
     "metadata": {},
     "output_type": "execute_result"
    }
   ],
   "source": [
    "vce, vre, vbb, vc, ib, ic"
   ]
  },
  {
   "cell_type": "code",
   "execution_count": 79,
   "metadata": {},
   "outputs": [
    {
     "data": {
      "text/plain": [
       "(0.0, 0.25, 0.5)"
      ]
     },
     "execution_count": 79,
     "metadata": {},
     "output_type": "execute_result"
    }
   ],
   "source": [
    "vgmin-rb*ib-vbe, vgmed-rb*ib-vbe, vgmax-rb*ib-vbe"
   ]
  },
  {
   "cell_type": "code",
   "execution_count": 85,
   "metadata": {},
   "outputs": [
    {
     "data": {
      "text/plain": [
       "(0.95, 1.2, 1.45)"
      ]
     },
     "execution_count": 85,
     "metadata": {},
     "output_type": "execute_result"
    }
   ],
   "source": [
    "vgmin-rb*ib, vgmed-rb*ib, vgmax-rb*ib"
   ]
  },
  {
   "cell_type": "code",
   "execution_count": 84,
   "metadata": {},
   "outputs": [
    {
     "data": {
      "text/plain": [
       "(1.2, 1.45, 1.7)"
      ]
     },
     "execution_count": 84,
     "metadata": {},
     "output_type": "execute_result"
    }
   ],
   "source": [
    "vgmin, vgmed, vgmax"
   ]
  },
  {
   "cell_type": "code",
   "execution_count": null,
   "metadata": {},
   "outputs": [],
   "source": []
  }
 ],
 "metadata": {
  "kernelspec": {
   "display_name": "Python 3",
   "language": "python",
   "name": "python3"
  },
  "language_info": {
   "codemirror_mode": {
    "name": "ipython",
    "version": 3
   },
   "file_extension": ".py",
   "mimetype": "text/x-python",
   "name": "python",
   "nbconvert_exporter": "python",
   "pygments_lexer": "ipython3",
   "version": "3.8.5"
  }
 },
 "nbformat": 4,
 "nbformat_minor": 4
}
